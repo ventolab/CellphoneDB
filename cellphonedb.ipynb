{
 "cells": [
  {
   "cell_type": "markdown",
   "metadata": {},
   "source": [
    " ![CellphoneDB Logo](https://www.cellphonedb.org/images/cellphonedb_logo_33.png) | CellphoneDB is a publicly available repository of curated receptors, ligands and their interactions. ||\n",
    " :------------- | :------------- | :-------------\n",
    "\n",
    "CellphoneDB includes subunit architecture for both ligands and receptors, representing heteromeric complexes accurately. This is crucial, as cell-cell communication relies on multi-subunit protein complexes that go beyond the binary representation used in most databases and studies.\n",
    "\n",
    "CellPhoneDB integrates existing datasets that pertain to cellular communication and new manually reviewed information. CellPhoneDB utilises information from the following data bases: [UniProt](https://www.uniprot.org/), [Ensembl](https://www.ensembl.org/), [PDB](https://www.ebi.ac.uk/pdbe/), [the IMEx consortium](https://www.imexconsortium.org/) and [IUPHAR](https://www.guidetopharmacology.org/).\n",
    "\n",
    "CellPhoneDB can be used to search for a particular ligand/receptor or interrogate your own single-cell transcriptomics data.\n",
    "\n"
   ]
  },
  {
   "cell_type": "markdown",
   "metadata": {},
   "source": [
    "## Install CellphoneDB package"
   ]
  },
  {
   "cell_type": "code",
   "execution_count": null,
   "metadata": {},
   "outputs": [],
   "source": [
    "%%capture\n",
    "!pip install \"git+https://github.com/ventolab/CellphoneDB.git@bare-essentials\""
   ]
  },
  {
   "cell_type": "markdown",
   "metadata": {},
   "source": [
    "## List CellphoneDB data releases"
   ]
  },
  {
   "cell_type": "code",
   "execution_count": null,
   "metadata": {},
   "outputs": [],
   "source": [
    "from IPython.display import HTML, display\n",
    "from cellphonedb.utils import db_releases_utils\n",
    "display(HTML(db_releases_utils.get_remote_database_versions_html()))"
   ]
  },
  {
   "cell_type": "markdown",
   "metadata": {},
   "source": [
    "## Generate own input files\n",
    "#### Note: use this section if need to append your own interactions to CellphoneDB's ones (or replace CellphoneDB's interactions with your own)."
   ]
  },
  {
   "cell_type": "code",
   "execution_count": null,
   "metadata": {},
   "outputs": [],
   "source": [
    "import os\n",
    "from cellphonedb.utils import generate_input_files\n",
    "import warnings\n",
    "warnings.filterwarnings('ignore')\n",
    "user_dir_root = os.path.join(os.path.expanduser('~'),\".cpdb\")\n",
    "user_files_dir = os.path.join(user_dir_root,\"user_files\")\n",
    "cellophonedb_version = \"v5.0.0\"\n",
    "# Use this file to add own interactions to \n",
    "path_to_user_interactions=os.path.join(user_files_dir,\"test_interaction.csv\")\n",
    "path_to_user_complexes=os.path.join(user_files_dir,\"test_complex.csv\")\n",
    "use_user_interactions_only=False\n",
    "# The command below generates *_input.csv files in <user_dir_root>/<cellophonedb_version>/data/generated directory\n",
    "generate_input_files.generate_all(user_dir_root, cellophonedb_version, \\\n",
    "    user_complex=path_to_user_complexes, user_interactions=path_to_user_interactions, user_interactions_only=False)"
   ]
  },
  {
   "cell_type": "markdown",
   "metadata": {},
   "source": [
    "## Download input files from CellphoneDB\n",
    "#### Note: use this section if you need to use interactions provided by CellphoneDB only."
   ]
  },
  {
   "cell_type": "code",
   "execution_count": null,
   "metadata": {},
   "outputs": [],
   "source": [
    "# The command below downloads from https://github.com/ventolab/cellphonedb-data/ *_input.csv files into\n",
    "# <user_dir_root>/<cellophonedb_version>/data\n",
    "from cellphonedb.utils import db_utils\n",
    "cellophonedb_version = \"v5.0.0\"\n",
    "db_utils.download_input_files(user_dir_root, cellophonedb_version)"
   ]
  },
  {
   "cell_type": "markdown",
   "metadata": {},
   "source": [
    "## Load CellphoneDB into memory\n",
    "#### Create DB file from input files created or downloaded above and load DB into memory."
   ]
  },
  {
   "cell_type": "code",
   "execution_count": null,
   "metadata": {},
   "outputs": [],
   "source": [
    "import os\n",
    "from cellphonedb.utils import db_utils\n",
    "# Specify paths to *_input.csv files to be used to generate the DB file\n",
    "user_dir_root = os.path.join(os.path.expanduser('~'),\".cpdb\")\n",
    "cellophonedb_version = \"v5.0.0\"\n",
    "db_dir = db_utils.get_db_path(user_dir_root, cellophonedb_version)\n",
    "data_dir = os.path.join(db_dir, \"data\")\n",
    "# Use the following if you generated you own *_input.csv files\n",
    "# data_dir = os.path.join(db_dir, \"data\",\"generated\")\n",
    "gene_input_path = os.path.join(data_dir, \"gene_input.csv\")\n",
    "protein_input_path = os.path.join(data_dir, \"protein_input.csv\")\n",
    "complex_input_path = os.path.join(data_dir, \"complex_input.csv\")\n",
    "interaction_input_path = os.path.join(data_dir, \"interaction_input.csv\")\n",
    "# Create <user_dir_root>/releases/<cellophonedb_version>/data/cellphonedb.zip using the input files above        \n",
    "db_utils.create_db(user_dir_root, cellophonedb_version, \\\n",
    "    gene_input=gene_input_path, protein_input=protein_input_path, \\\n",
    "    complex_input=complex_input_path, interaction_input=interaction_input_path)\n",
    "# Load into memory CellphoneDB data\n",
    "interactions, genes, complex_composition, complex_expanded = \\\n",
    "    db_utils.get_interactions_genes_complex(user_dir_root, cellophonedb_version)"
   ]
  },
  {
   "cell_type": "markdown",
   "metadata": {},
   "source": [
    "## Search CellphoneDB Interactions\n",
    "#### Search CellphoneDB interactions by (a comma- or space-separated list of): \n",
    "* Ensembl ID (e.g. ENSG00000165029), \n",
    "* Gene name (e.g. ABCA1), \n",
    "* UniProt ID (e.g. KLRG2_HUMAN), \n",
    "* UniProt Accession (e.g. A4D1S0) or \n",
    "* Complex name (e.g. 12oxoLeukotrieneB4_byPTGR1)"
   ]
  },
  {
   "cell_type": "code",
   "execution_count": null,
   "metadata": {},
   "outputs": [],
   "source": [
    "import os\n",
    "from cellphonedb.utils import utils, search_utils\n",
    "from IPython.display import HTML, display\n",
    "# Search CellphoneDB interactions by (a comma- or space-separated list of):\n",
    "# Ensembl ID (e.g. ENSG00000165029), Gene name (e.g. ABCA1), UniProt ID (e.g. KLRG2_HUMAN), \n",
    "# UniProt Accession (e.g. A4D1S0) or Complex name (e.g. 12oxoLeukotrieneB4_byPTGR1)\n",
    "(results, complex_name2proteins_text) = search_utils.search('ENSG00000134780,integrin_a10b1_complex', user_dir_root, cellophonedb_version)\n",
    "# Display results in a html table\n",
    "# Note: Mouse over complex names to see constituent proteins\n",
    "display(HTML(search_utils.get_html_table(results, complex_name2proteins_text)))\n",
    "# Optionally, save results_csv to a file\n",
    "# utils.write_to_csv(results, os.path.join(user_dir_root,\"cpdb_search_results.csv\"), delimiter=',')"
   ]
  },
  {
   "cell_type": "markdown",
   "metadata": {},
   "source": [
    "## Load User Files\n",
    "#### Note: User files are expected to be found in directory: \\<user_dir_root\\>/user_files "
   ]
  },
  {
   "cell_type": "code",
   "execution_count": null,
   "metadata": {},
   "outputs": [],
   "source": [
    "from cellphonedb.src.core.preprocessors import method_preprocessors\n",
    "from cellphonedb import controller\n",
    "#counts, raw_meta, meta, microenvs, degs = controller.get_user_files(user_dir_root, \\\n",
    "#    counts_fn='test_counts.txt', meta_fn='test_meta.txt', \\\n",
    "#    microenvs_fn='test_microenviroments.txt', degs_fn='test_degs.txt')\n",
    "adata, counts, raw_meta, meta, microenvs, degs = controller.get_user_file(user_dir_root, h5ad_fn = 'test.h5ad')\n",
    "meta = method_preprocessors.meta_preprocessor(raw_meta)\n",
    "counts = controller._counts_validations(counts, meta)\n",
    "subsampler = None\n",
    "if subsampler is not None:\n",
    "    counts = subsampler.subsample(counts)"
   ]
  },
  {
   "cell_type": "markdown",
   "metadata": {},
   "source": [
    "## Run Basic Analysis"
   ]
  },
  {
   "cell_type": "code",
   "execution_count": null,
   "metadata": {},
   "outputs": [],
   "source": [
    "from cellphonedb.src.core.methods import cpdb_analysis_method\n",
    "means, significant_means, deconvoluted = cpdb_analysis_method.call(\n",
    "    meta,\n",
    "    counts,\n",
    "    'ensembl',\n",
    "    interactions,\n",
    "    genes,\n",
    "    complex_expanded,\n",
    "    complex_composition,\n",
    "    microenvs=microenvs,\n",
    "    debug=False,\n",
    "    output_path=os.path.join(user_dir_root,'out'))\n",
    "# print(means.info)\n",
    "# print(significant_means.info)\n",
    "# print(deconvoluted.info)"
   ]
  },
  {
   "cell_type": "markdown",
   "metadata": {},
   "source": [
    "## Run Statistical Analysis"
   ]
  },
  {
   "cell_type": "code",
   "execution_count": null,
   "metadata": {},
   "outputs": [],
   "source": [
    "from cellphonedb.src.core.methods import cpdb_statistical_analysis_method\n",
    "deconvoluted, means, pvalues, significant_means = \\\n",
    "    cpdb_statistical_analysis_method.call(meta,\n",
    "        counts,\n",
    "        'ensembl',\n",
    "        interactions,\n",
    "        genes,\n",
    "        complex_expanded,\n",
    "        complex_composition,\n",
    "        microenvs=microenvs,\n",
    "        iterations = 1000,\n",
    "        threshold = 0.1,\n",
    "        threads = 4,\n",
    "        debug_seed = -1,\n",
    "        result_precision = 3,\n",
    "        pvalue = 0.05,\n",
    "        separator = '|',\n",
    "        debug = False,\n",
    "        output_path = '')\n",
    "# print(deconvoluted.info)\n",
    "# print(means.info)\n",
    "# print(pvalues.info)\n",
    "# print(significant_means.info)\n"
   ]
  },
  {
   "cell_type": "markdown",
   "metadata": {},
   "source": [
    "## Run Differential Analysis"
   ]
  },
  {
   "cell_type": "code",
   "execution_count": null,
   "metadata": {},
   "outputs": [],
   "source": [
    "from cellphonedb.src.core.methods import cpdb_degs_analysis_method\n",
    "deconvoluted, means, relevant_interactions, significant_means = \\\n",
    "    cpdb_degs_analysis_method.call(meta,\n",
    "        counts,\n",
    "        degs,\n",
    "        'ensembl',\n",
    "        interactions,\n",
    "        genes,\n",
    "        complex_expanded,\n",
    "        complex_composition,\n",
    "        microenvs=microenvs,\n",
    "        iterations = 1000,\n",
    "        threshold = 0.1,\n",
    "        threads = 4,\n",
    "        debug_seed = -1,\n",
    "        result_precision = 3,\n",
    "        separator = '|',\n",
    "        debug = False,\n",
    "        output_path = '')\n",
    "# print(deconvoluted.info)\n",
    "# print(means.info)\n",
    "# print(relevant_interactions.info)\n",
    "# print(significant_means.info)"
   ]
  },
  {
   "cell_type": "markdown",
   "metadata": {},
   "source": [
    "## Plot Statistical Analysis results"
   ]
  },
  {
   "cell_type": "code",
   "execution_count": null,
   "metadata": {
    "scrolled": true
   },
   "outputs": [],
   "source": [
    "import warnings\n",
    "warnings.filterwarnings('ignore')\n",
    "from ktplotspy.plot import plot_cpdb, plot_cpdb_heatmap\n",
    "\n",
    "# Exmaple dot plot\n",
    "g1 = plot_cpdb(\n",
    "        adata=adata,\n",
    "        cell_type1=\"Myeloid\",\n",
    "        # '.' means any cell type\n",
    "        cell_type2=\".\",\n",
    "        means=means,\n",
    "        pvals=pvalues,\n",
    "        celltype_key=\"cell_type\",\n",
    "        genes=[\"FN1\", \"integrin-a5b1-complex\",\"COLEC12\"],\n",
    "        title=\"Example dot plot\"\n",
    "    )\n",
    "\n",
    "# Example heatmap\n",
    "g2 = plot_cpdb_heatmap(\n",
    "        adata=adata,\n",
    "        pvals=pvalues,\n",
    "        celltype_key=\"cell_type\",\n",
    "        log1p_transform=True,\n",
    "        title=\"Example heatmap\"\n",
    "    )\n",
    "g1, g2\n"
   ]
  },
  {
   "cell_type": "code",
   "execution_count": null,
   "metadata": {},
   "outputs": [],
   "source": []
  }
 ],
 "metadata": {
  "kernelspec": {
   "display_name": "Python 3.8.11 ('base')",
   "language": "python",
   "name": "python3"
  },
  "language_info": {
   "codemirror_mode": {
    "name": "ipython",
    "version": 3
   },
   "file_extension": ".py",
   "mimetype": "text/x-python",
   "name": "python",
   "nbconvert_exporter": "python",
   "pygments_lexer": "ipython3",
   "version": "3.9.12"
  }
 },
 "nbformat": 4,
 "nbformat_minor": 4
}
